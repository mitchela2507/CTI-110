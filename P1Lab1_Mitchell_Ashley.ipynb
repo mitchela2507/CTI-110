{
  "nbformat": 4,
  "nbformat_minor": 0,
  "metadata": {
    "colab": {
      "provenance": []
    },
    "kernelspec": {
      "name": "python3",
      "display_name": "Python 3"
    },
    "language_info": {
      "name": "python"
    }
  },
  "cells": [
    {
      "cell_type": "code",
      "execution_count": null,
      "metadata": {
        "colab": {
          "base_uri": "https://localhost:8080/"
        },
        "id": "9m60QKwB9H-V",
        "outputId": "3991515d-13bb-4964-e456-a9f444ac12c7"
      },
      "outputs": [
        {
          "output_type": "stream",
          "name": "stdout",
          "text": [
            "Enter your first name: Ashley\n",
            "Enter your last name: Mitchell\n",
            "Hello, Ashley Mitchell! Welcome to CTI-110 😁👍\n"
          ]
        }
      ],
      "source": [
        "# Ashley Mitchell\n",
        "# 2/5/2025\n",
        "# P1Lab1\n",
        "# Using input and print functions\n",
        "\n",
        "# Get info from user\n",
        "f_name = input(\"Enter your first name: \")\n",
        "l_name = input(\"Enter your last name: \")\n",
        "\n",
        "# Display greeting to user\n",
        "print(\"Hello,\", f_name, l_name + \"!\", \"Welcome to CTI-110 😁👍\")\n"
      ]
    }
  ]
}